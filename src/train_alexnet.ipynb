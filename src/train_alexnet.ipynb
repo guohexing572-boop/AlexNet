{
 "cells": [
  {
   "metadata": {},
   "cell_type": "markdown",
   "source": "# 导入包",
   "id": "74c39d550731d40"
  },
  {
   "cell_type": "code",
   "id": "initial_id",
   "metadata": {
    "collapsed": true,
    "ExecuteTime": {
     "end_time": "2025-09-22T13:32:45.690574Z",
     "start_time": "2025-09-22T13:32:45.687744Z"
    }
   },
   "source": [
    "import os\n",
    "import numpy as np\n",
    "import torch.nn as nn\n",
    "import torch\n",
    "from torch.utils.data import DataLoader\n",
    "import torchvision.transforms as transforms\n",
    "import torch.optim as optim\n",
    "from matplotlib import pyplot as plt\n",
    "import torchvision.models as models\n",
    "from tools.my_dataset import CatDogDataset\n",
    "\n",
    "BASE_DIR = os.getcwd()  # 获取当前工作目录\n",
    "device = torch.device(\"cuda\" if torch.cuda.is_available() else \"cpu\")"
   ],
   "outputs": [],
   "execution_count": 98
  },
  {
   "metadata": {},
   "cell_type": "markdown",
   "source": "# 导入模型及其参数",
   "id": "7396c551b8bd33f2"
  },
  {
   "metadata": {
    "ExecuteTime": {
     "end_time": "2025-09-22T13:32:45.763026Z",
     "start_time": "2025-09-22T13:32:45.759784Z"
    }
   },
   "cell_type": "code",
   "source": [
    "def get_model(path_state_dict, vis_model=False):\n",
    "    \"\"\"\n",
    "    创建模型，加载参数\n",
    "    :param path_state_dict:\n",
    "    :return:\n",
    "    \"\"\"\n",
    "    model = models.alexnet()\n",
    "    pretrained_state_dict = torch.load(path_state_dict,weights_only=True)\n",
    "    model.load_state_dict(pretrained_state_dict)\n",
    "\n",
    "    if vis_model:\n",
    "        from torchsummary import summary\n",
    "        summary(model, input_size=(3, 224, 224), device=\"cpu\")\n",
    "\n",
    "    model.to(device)\n",
    "    return model"
   ],
   "id": "ec92f698bc45cde1",
   "outputs": [],
   "execution_count": 99
  },
  {
   "metadata": {},
   "cell_type": "markdown",
   "source": "# 可改变的超参",
   "id": "c9db374af56c2a96"
  },
  {
   "metadata": {
    "ExecuteTime": {
     "end_time": "2025-09-22T13:32:45.766936Z",
     "start_time": "2025-09-22T13:32:45.763026Z"
    }
   },
   "cell_type": "code",
   "source": [
    "# config\n",
    "data_dir = os.path.join(BASE_DIR, \"..\", \"data\", \"train\")\n",
    "path_state_dict = os.path.join(BASE_DIR, \"..\", \"data\", \"alexnet-owt-4df8aa71.pth\")\n",
    "num_classes = 2\n",
    "\n",
    "MAX_EPOCH = 3      # 可自行修改\n",
    "BATCH_SIZE = 128    # 可自行修改\n",
    "LR = 0.001          # 可自行修改\n",
    "log_interval = 1    # 可自行修改\n",
    "val_interval = 1    # 可自行修改\n",
    "classes = 2\n",
    "start_epoch = -1\n",
    "lr_decay_step = 1   # 可自行修改"
   ],
   "id": "3e55c171177d741a",
   "outputs": [],
   "execution_count": 100
  },
  {
   "metadata": {},
   "cell_type": "markdown",
   "source": "# transform",
   "id": "7fe39a4b39c6c16"
  },
  {
   "metadata": {
    "ExecuteTime": {
     "end_time": "2025-09-22T13:32:45.771784Z",
     "start_time": "2025-09-22T13:32:45.766936Z"
    }
   },
   "cell_type": "code",
   "source": [
    "norm_mean = [0.485, 0.456, 0.406]\n",
    "norm_std = [0.229, 0.224, 0.225]\n",
    "\n",
    "train_transform = transforms.Compose([\n",
    "    transforms.Resize((256)),      # （256）短边变成256，长边等比变化(256,256)两个边都会变\n",
    "    transforms.CenterCrop(256),     #中心截取256*256\n",
    "    transforms.RandomCrop(224),     #随机位置裁剪224*224有1024种可能\n",
    "    transforms.RandomHorizontalFlip(p=0.5),     #随机水平翻转\n",
    "    transforms.ToTensor(),\n",
    "    transforms.Normalize(norm_mean, norm_std),\n",
    "])\n",
    "\n",
    "normalizes = transforms.Normalize(norm_mean, norm_std)\n",
    "valid_transform = transforms.Compose([\n",
    "    transforms.Resize((256, 256)),      #变成256*256\n",
    "    transforms.TenCrop(224, vertical_flip=False),       #1张图片变成10张图片\n",
    "    transforms.Lambda(lambda crops: torch.stack([normalizes(transforms.ToTensor()(crop)) for crop in crops])),      #把10张图片变成一个batch\n",
    "])"
   ],
   "id": "b5cc685696871628",
   "outputs": [],
   "execution_count": 101
  },
  {
   "metadata": {
    "ExecuteTime": {
     "end_time": "2025-09-22T13:32:45.774526Z",
     "start_time": "2025-09-22T13:32:45.771784Z"
    }
   },
   "cell_type": "code",
   "source": "",
   "id": "b543450eebd605b4",
   "outputs": [],
   "execution_count": 101
  },
  {
   "metadata": {},
   "cell_type": "markdown",
   "source": "# dataset",
   "id": "7aea66a0f060659"
  },
  {
   "metadata": {
    "ExecuteTime": {
     "end_time": "2025-09-22T13:32:45.793606Z",
     "start_time": "2025-09-22T13:32:45.775541Z"
    }
   },
   "cell_type": "code",
   "source": [
    "# 构建MyDataset实例\n",
    "train_data = CatDogDataset(data_dir=data_dir, mode=\"train\", transform=train_transform)\n",
    "valid_data = CatDogDataset(data_dir=data_dir, mode=\"valid\", transform=valid_transform)"
   ],
   "id": "fbb442d5eb902681",
   "outputs": [],
   "execution_count": 102
  },
  {
   "metadata": {},
   "cell_type": "markdown",
   "source": "# dataloader",
   "id": "a0053e61807ad789"
  },
  {
   "metadata": {
    "ExecuteTime": {
     "end_time": "2025-09-22T13:32:45.798263Z",
     "start_time": "2025-09-22T13:32:45.793606Z"
    }
   },
   "cell_type": "code",
   "source": [
    "# 构建DataLoder\n",
    "train_loader = DataLoader(dataset=train_data, batch_size=BATCH_SIZE, shuffle=True)\n",
    "valid_loader = DataLoader(dataset=valid_data, batch_size=4)"
   ],
   "id": "bebc6633aef8deb8",
   "outputs": [],
   "execution_count": 103
  },
  {
   "metadata": {},
   "cell_type": "markdown",
   "source": "# 修改原alexnet",
   "id": "1d5746cc191ab35f"
  },
  {
   "metadata": {},
   "cell_type": "markdown",
   "source": "## 查看alexnet的模型",
   "id": "182516dfb963ee5f"
  },
  {
   "metadata": {
    "ExecuteTime": {
     "end_time": "2025-09-22T13:32:46.623008Z",
     "start_time": "2025-09-22T13:32:45.811622Z"
    }
   },
   "cell_type": "code",
   "source": [
    "#加载预训练的alexnet模型，可视化为False\n",
    "alexnet_model = get_model(path_state_dict, False)"
   ],
   "id": "e73cdab14894719f",
   "outputs": [],
   "execution_count": 104
  },
  {
   "metadata": {
    "ExecuteTime": {
     "end_time": "2025-09-22T13:32:46.632134Z",
     "start_time": "2025-09-22T13:32:46.625752Z"
    }
   },
   "cell_type": "code",
   "source": [
    "#alexnet的卷积层也叫特征层\n",
    "alexnet_model.features"
   ],
   "id": "13896f3ca49ea388",
   "outputs": [
    {
     "data": {
      "text/plain": [
       "Sequential(\n",
       "  (0): Conv2d(3, 64, kernel_size=(11, 11), stride=(4, 4), padding=(2, 2))\n",
       "  (1): ReLU(inplace=True)\n",
       "  (2): MaxPool2d(kernel_size=3, stride=2, padding=0, dilation=1, ceil_mode=False)\n",
       "  (3): Conv2d(64, 192, kernel_size=(5, 5), stride=(1, 1), padding=(2, 2))\n",
       "  (4): ReLU(inplace=True)\n",
       "  (5): MaxPool2d(kernel_size=3, stride=2, padding=0, dilation=1, ceil_mode=False)\n",
       "  (6): Conv2d(192, 384, kernel_size=(3, 3), stride=(1, 1), padding=(1, 1))\n",
       "  (7): ReLU(inplace=True)\n",
       "  (8): Conv2d(384, 256, kernel_size=(3, 3), stride=(1, 1), padding=(1, 1))\n",
       "  (9): ReLU(inplace=True)\n",
       "  (10): Conv2d(256, 256, kernel_size=(3, 3), stride=(1, 1), padding=(1, 1))\n",
       "  (11): ReLU(inplace=True)\n",
       "  (12): MaxPool2d(kernel_size=3, stride=2, padding=0, dilation=1, ceil_mode=False)\n",
       ")"
      ]
     },
     "execution_count": 105,
     "metadata": {},
     "output_type": "execute_result"
    }
   ],
   "execution_count": 105
  },
  {
   "metadata": {
    "ExecuteTime": {
     "end_time": "2025-09-22T13:32:46.639442Z",
     "start_time": "2025-09-22T13:32:46.634082Z"
    }
   },
   "cell_type": "code",
   "source": [
    "#alexnet的全连接层也叫分类层\n",
    "alexnet_model.classifier"
   ],
   "id": "6a5f807e674b7e32",
   "outputs": [
    {
     "data": {
      "text/plain": [
       "Sequential(\n",
       "  (0): Dropout(p=0.5, inplace=False)\n",
       "  (1): Linear(in_features=9216, out_features=4096, bias=True)\n",
       "  (2): ReLU(inplace=True)\n",
       "  (3): Dropout(p=0.5, inplace=False)\n",
       "  (4): Linear(in_features=4096, out_features=4096, bias=True)\n",
       "  (5): ReLU(inplace=True)\n",
       "  (6): Linear(in_features=4096, out_features=1000, bias=True)\n",
       ")"
      ]
     },
     "execution_count": 106,
     "metadata": {},
     "output_type": "execute_result"
    }
   ],
   "execution_count": 106
  },
  {
   "metadata": {
    "ExecuteTime": {
     "end_time": "2025-09-22T13:32:46.647834Z",
     "start_time": "2025-09-22T13:32:46.641459Z"
    }
   },
   "cell_type": "code",
   "source": [
    "#获取最后一层的input_feature数 4096\n",
    "num_ftrs = alexnet_model.classifier._modules[\"6\"].in_features\n",
    "#创建一个新的fc层，输入维度和之前的一样，输出是自己定的\n",
    "alexnet_model.classifier._modules[\"6\"] = nn.Linear(num_ftrs, num_classes)\n",
    "\n",
    "alexnet_model.to(device)"
   ],
   "id": "ce3d0a762f6bb7fd",
   "outputs": [
    {
     "data": {
      "text/plain": [
       "AlexNet(\n",
       "  (features): Sequential(\n",
       "    (0): Conv2d(3, 64, kernel_size=(11, 11), stride=(4, 4), padding=(2, 2))\n",
       "    (1): ReLU(inplace=True)\n",
       "    (2): MaxPool2d(kernel_size=3, stride=2, padding=0, dilation=1, ceil_mode=False)\n",
       "    (3): Conv2d(64, 192, kernel_size=(5, 5), stride=(1, 1), padding=(2, 2))\n",
       "    (4): ReLU(inplace=True)\n",
       "    (5): MaxPool2d(kernel_size=3, stride=2, padding=0, dilation=1, ceil_mode=False)\n",
       "    (6): Conv2d(192, 384, kernel_size=(3, 3), stride=(1, 1), padding=(1, 1))\n",
       "    (7): ReLU(inplace=True)\n",
       "    (8): Conv2d(384, 256, kernel_size=(3, 3), stride=(1, 1), padding=(1, 1))\n",
       "    (9): ReLU(inplace=True)\n",
       "    (10): Conv2d(256, 256, kernel_size=(3, 3), stride=(1, 1), padding=(1, 1))\n",
       "    (11): ReLU(inplace=True)\n",
       "    (12): MaxPool2d(kernel_size=3, stride=2, padding=0, dilation=1, ceil_mode=False)\n",
       "  )\n",
       "  (avgpool): AdaptiveAvgPool2d(output_size=(6, 6))\n",
       "  (classifier): Sequential(\n",
       "    (0): Dropout(p=0.5, inplace=False)\n",
       "    (1): Linear(in_features=9216, out_features=4096, bias=True)\n",
       "    (2): ReLU(inplace=True)\n",
       "    (3): Dropout(p=0.5, inplace=False)\n",
       "    (4): Linear(in_features=4096, out_features=4096, bias=True)\n",
       "    (5): ReLU(inplace=True)\n",
       "    (6): Linear(in_features=4096, out_features=2, bias=True)\n",
       "  )\n",
       ")"
      ]
     },
     "execution_count": 107,
     "metadata": {},
     "output_type": "execute_result"
    }
   ],
   "execution_count": 107
  },
  {
   "metadata": {},
   "cell_type": "markdown",
   "source": "## 定义损失函数",
   "id": "e87cb99e0a779250"
  },
  {
   "metadata": {
    "ExecuteTime": {
     "end_time": "2025-09-22T13:32:46.655489Z",
     "start_time": "2025-09-22T13:32:46.649922Z"
    }
   },
   "cell_type": "code",
   "source": "criterion = nn.CrossEntropyLoss()",
   "id": "4c8292c06133719d",
   "outputs": [],
   "execution_count": 108
  },
  {
   "metadata": {},
   "cell_type": "markdown",
   "source": "## 设定优化器",
   "id": "9c6e9a780b770a05"
  },
  {
   "metadata": {
    "ExecuteTime": {
     "end_time": "2025-09-22T13:32:46.666102Z",
     "start_time": "2025-09-22T13:32:46.658667Z"
    }
   },
   "cell_type": "code",
   "source": [
    "# 冻结卷积层\n",
    "flag = 0\n",
    "# flag = 1\n",
    "if flag:\n",
    "    fc_params_id = list(map(id, alexnet_model.classifier.parameters()))  # 返回的是parameters的 内存地址\n",
    "    base_params = filter(lambda p: id(p) not in fc_params_id, alexnet_model.parameters())\n",
    "    optimizer = optim.SGD([\n",
    "        {'params': base_params, 'lr': LR * 0.1},  # 0\n",
    "        {'params': alexnet_model.classifier.parameters(), 'lr': LR}], momentum=0.9)\n",
    "\n",
    "else:\n",
    "    optimizer = optim.SGD(alexnet_model.parameters(), lr=LR, momentum=0.9)  # 选择优化器\n",
    "\n",
    "scheduler = torch.optim.lr_scheduler.StepLR(optimizer, step_size=lr_decay_step, gamma=0.1)  \n",
    "# 设置学习率下降策略\n",
    "# scheduler = torch.optim.lr_scheduler.ReduceLROnPlateau(patience=5)"
   ],
   "id": "6c665b5aa8484d78",
   "outputs": [],
   "execution_count": 109
  },
  {
   "metadata": {},
   "cell_type": "markdown",
   "source": "# 训练",
   "id": "ed7fbdbd64e8f78c"
  },
  {
   "metadata": {
    "ExecuteTime": {
     "end_time": "2025-09-22T13:32:47.207646Z",
     "start_time": "2025-09-22T13:32:46.668442Z"
    }
   },
   "cell_type": "code",
   "source": [
    "for images, labels in train_loader:\n",
    "    print(\"Batch 图像形状:\", images.shape)  # [batch_size, channels, height, width]\n",
    "    print(\"Batch 标签形状:\", labels.shape)\n",
    "    print(\"标签值:\", labels)\n",
    "    \n",
    "    # 只查看第一个 batch 就退出\n",
    "    break"
   ],
   "id": "7dc1246a191937dc",
   "outputs": [
    {
     "name": "stdout",
     "output_type": "stream",
     "text": [
      "Batch 图像形状: torch.Size([128, 3, 224, 224])\n",
      "Batch 标签形状: torch.Size([128])\n",
      "标签值: tensor([0, 0, 0, 0, 0, 0, 0, 0, 0, 0, 0, 0, 0, 0, 0, 0, 0, 0, 0, 0, 0, 0, 0, 0,\n",
      "        0, 0, 0, 0, 0, 0, 0, 0, 0, 0, 0, 0, 0, 0, 0, 0, 0, 0, 0, 0, 0, 0, 0, 0,\n",
      "        0, 0, 0, 0, 0, 0, 0, 0, 0, 0, 0, 0, 0, 0, 0, 0, 0, 0, 0, 0, 0, 0, 0, 0,\n",
      "        0, 0, 0, 0, 0, 0, 0, 0, 0, 0, 0, 0, 0, 0, 0, 0, 0, 0, 0, 0, 0, 0, 0, 0,\n",
      "        0, 0, 0, 0, 0, 0, 0, 0, 0, 0, 0, 0, 0, 0, 0, 0, 0, 0, 0, 0, 0, 0, 0, 0,\n",
      "        0, 0, 0, 0, 0, 0, 0, 0])\n"
     ]
    }
   ],
   "execution_count": 110
  },
  {
   "metadata": {
    "ExecuteTime": {
     "end_time": "2025-09-22T13:32:47.519019Z",
     "start_time": "2025-09-22T13:32:47.207646Z"
    }
   },
   "cell_type": "code",
   "source": [
    "for i, data in enumerate(train_loader):\n",
    "    inputs, labels = data\n",
    "    print(len(data))\n",
    "    print(inputs.shape)\n",
    "    print(labels.shape)\n",
    "    print(\"i:\",i,\"inputs:\",inputs,\"labels:\",labels)\n",
    "    break"
   ],
   "id": "e8cd22fde8ce3281",
   "outputs": [
    {
     "name": "stdout",
     "output_type": "stream",
     "text": [
      "2\n",
      "torch.Size([128, 3, 224, 224])\n",
      "torch.Size([128])\n",
      "i: 0 inputs: tensor([[[[-1.4672, -1.4329, -1.4158,  ...,  0.5364,  0.5878,  0.6221],\n",
      "          [-1.5014, -1.4843, -1.4500,  ...,  0.5022,  0.5193,  0.5536],\n",
      "          [-1.5357, -1.5185, -1.5014,  ...,  0.4508,  0.4679,  0.5193],\n",
      "          ...,\n",
      "          [-0.6794, -0.5938, -0.4911,  ..., -1.8439, -1.8097, -1.7925],\n",
      "          [-0.5424, -0.5253, -0.5082,  ..., -1.6898, -1.6555, -1.6555],\n",
      "          [-0.4739, -0.4568, -0.4739,  ..., -1.7069, -1.6898, -1.6898]],\n",
      "\n",
      "         [[-1.4230, -1.3880, -1.3704,  ...,  0.4678,  0.5203,  0.5553],\n",
      "          [-1.4580, -1.4405, -1.4055,  ...,  0.4328,  0.4503,  0.4853],\n",
      "          [-1.4930, -1.4755, -1.4580,  ...,  0.3803,  0.3978,  0.4503],\n",
      "          ...,\n",
      "          [-0.9328, -0.8452, -0.7402,  ..., -1.5455, -1.5280, -1.5105],\n",
      "          [-0.8277, -0.8102, -0.7927,  ..., -1.3880, -1.3704, -1.3704],\n",
      "          [-0.7927, -0.7752, -0.7577,  ..., -1.3880, -1.3704, -1.3880]],\n",
      "\n",
      "         [[-1.0376, -1.0027, -0.9853,  ...,  0.6879,  0.7402,  0.7751],\n",
      "          [-1.0724, -1.0550, -1.0201,  ...,  0.6531,  0.6705,  0.7054],\n",
      "          [-1.1073, -1.0898, -1.0724,  ...,  0.6008,  0.6182,  0.6705],\n",
      "          ...,\n",
      "          [-0.8284, -0.7413, -0.6367,  ..., -1.2467, -1.2467, -1.2293],\n",
      "          [-0.7413, -0.7238, -0.7064,  ..., -1.1073, -1.1073, -1.1073],\n",
      "          [-0.6890, -0.6715, -0.6715,  ..., -1.1421, -1.1247, -1.1247]]],\n",
      "\n",
      "\n",
      "        [[[-1.7583, -1.7412, -1.7412,  ..., -1.7069, -1.7412, -1.7583],\n",
      "          [-1.7412, -1.7069, -1.7412,  ..., -1.8268, -1.8610, -1.8782],\n",
      "          [-1.7583, -1.7069, -1.7412,  ..., -1.8610, -1.8610, -1.8782],\n",
      "          ...,\n",
      "          [-0.5767, -0.4397, -0.1828,  ...,  1.4612,  1.4612,  1.4440],\n",
      "          [-1.2274, -1.2274, -1.1418,  ...,  1.5125,  1.4783,  1.4612],\n",
      "          [-1.2103, -1.1932, -1.1932,  ...,  1.4954,  1.4783,  1.4612]],\n",
      "\n",
      "         [[-1.6155, -1.6155, -1.6331,  ..., -1.5980, -1.6331, -1.6506],\n",
      "          [-1.5980, -1.5805, -1.6331,  ..., -1.7381, -1.7556, -1.7731],\n",
      "          [-1.6331, -1.5980, -1.6331,  ..., -1.7731, -1.7731, -1.7731],\n",
      "          ...,\n",
      "          [-0.4426, -0.3025, -0.0399,  ...,  1.7983,  1.7983,  1.7808],\n",
      "          [-1.1078, -1.1078, -1.0203,  ...,  1.8508,  1.8158,  1.7983],\n",
      "          [-1.0903, -1.0728, -1.0728,  ...,  1.8333,  1.8158,  1.7983]],\n",
      "\n",
      "         [[-1.4733, -1.4036, -1.3339,  ..., -1.4733, -1.5081, -1.5256],\n",
      "          [-1.4384, -1.3513, -1.3339,  ..., -1.5779, -1.5953, -1.6127],\n",
      "          [-1.4384, -1.3513, -1.3164,  ..., -1.5604, -1.5604, -1.5779],\n",
      "          ...,\n",
      "          [-0.1487, -0.0092,  0.2522,  ...,  2.1694,  2.1694,  2.1520],\n",
      "          [-0.8110, -0.8110, -0.7238,  ...,  2.2217,  2.1868,  2.1694],\n",
      "          [-0.8110, -0.7936, -0.7761,  ...,  2.2043,  2.1868,  2.1694]]],\n",
      "\n",
      "\n",
      "        [[[-1.3644, -1.5357, -1.5870,  ..., -0.6452, -0.6794, -0.6623],\n",
      "          [-1.4329, -1.4500, -1.4843,  ..., -0.6452, -0.6281, -0.6281],\n",
      "          [-1.4329, -1.4329, -1.4329,  ..., -0.6281, -0.6109, -0.5938],\n",
      "          ...,\n",
      "          [-0.2342, -0.2171, -0.2342,  ..., -0.0629, -0.0629, -0.0972],\n",
      "          [-0.1828, -0.1828, -0.1657,  ..., -0.0629, -0.0801, -0.1143],\n",
      "          [-0.1143, -0.1143, -0.0629,  ..., -0.0801, -0.0972, -0.0972]],\n",
      "\n",
      "         [[-1.2479, -1.3880, -1.4405,  ..., -0.6352, -0.6702, -0.6527],\n",
      "          [-1.3004, -1.3004, -1.3354,  ..., -0.6527, -0.6352, -0.6352],\n",
      "          [-1.3004, -1.3004, -1.2829,  ..., -0.6702, -0.6702, -0.6527],\n",
      "          ...,\n",
      "          [-0.3550, -0.3375, -0.3550,  ..., -0.1975, -0.1975, -0.2325],\n",
      "          [-0.3200, -0.3025, -0.3200,  ..., -0.1625, -0.1800, -0.1975],\n",
      "          [-0.2500, -0.2675, -0.2675,  ..., -0.1450, -0.1275, -0.1099]],\n",
      "\n",
      "         [[-1.1596, -1.3339, -1.3513,  ..., -0.8633, -0.8981, -0.8807],\n",
      "          [-1.2293, -1.2467, -1.2467,  ..., -0.8807, -0.8633, -0.8633],\n",
      "          [-1.2293, -1.2293, -1.1944,  ..., -0.8807, -0.8807, -0.8633],\n",
      "          ...,\n",
      "          [-0.6367, -0.6193, -0.6367,  ..., -0.5670, -0.5670, -0.6193],\n",
      "          [-0.6018, -0.5844, -0.5844,  ..., -0.5495, -0.5495, -0.5670],\n",
      "          [-0.5321, -0.5495, -0.5321,  ..., -0.5321, -0.4973, -0.4798]]],\n",
      "\n",
      "\n",
      "        ...,\n",
      "\n",
      "\n",
      "        [[[-2.0494, -2.0323, -2.0494,  ..., -1.6555, -1.6213, -1.5185],\n",
      "          [-2.0494, -2.0323, -2.0494,  ..., -1.2617, -1.4329, -1.4500],\n",
      "          [-2.0494, -2.0323, -2.0323,  ..., -0.9192, -1.1075, -1.1760],\n",
      "          ...,\n",
      "          [ 1.2214,  1.2385,  1.2728,  ...,  1.5297,  1.5297,  1.4954],\n",
      "          [ 1.2557,  1.2728,  1.3070,  ...,  1.5125,  1.5125,  1.4783],\n",
      "          [ 1.2899,  1.3070,  1.3242,  ...,  1.4954,  1.4954,  1.4612]],\n",
      "\n",
      "         [[-1.9657, -1.9482, -1.9657,  ..., -1.7206, -1.7031, -1.5805],\n",
      "          [-1.9657, -1.9482, -1.9657,  ..., -1.3880, -1.5805, -1.5805],\n",
      "          [-1.9657, -1.9482, -1.9482,  ..., -1.1429, -1.3354, -1.3880],\n",
      "          ...,\n",
      "          [ 0.8529,  0.8704,  0.9055,  ...,  1.0105,  1.0105,  1.0280],\n",
      "          [ 0.8880,  0.9055,  0.9405,  ...,  1.0105,  1.0105,  1.0280],\n",
      "          [ 0.9230,  0.9405,  0.9580,  ...,  0.9930,  0.9930,  1.0105]],\n",
      "\n",
      "         [[-1.7347, -1.7173, -1.7347,  ..., -1.7173, -1.7173, -1.6127],\n",
      "          [-1.7347, -1.7173, -1.7347,  ..., -1.5081, -1.6650, -1.6999],\n",
      "          [-1.7347, -1.7173, -1.7173,  ..., -1.3513, -1.5256, -1.5953],\n",
      "          ...,\n",
      "          [ 0.1651,  0.1476,  0.1825,  ...,  0.1999,  0.1825,  0.1651],\n",
      "          [ 0.1999,  0.1825,  0.2173,  ...,  0.1476,  0.1476,  0.1302],\n",
      "          [ 0.2348,  0.2173,  0.2348,  ...,  0.0779,  0.0779,  0.1128]]],\n",
      "\n",
      "\n",
      "        [[[ 0.4679,  0.4337,  0.4166,  ...,  0.4508,  0.5193,  0.5536],\n",
      "          [ 0.3138,  0.3652,  0.4166,  ...,  0.2796,  0.3138,  0.3481],\n",
      "          [ 0.3138,  0.3823,  0.4851,  ...,  0.2111,  0.1939,  0.2111],\n",
      "          ...,\n",
      "          [ 1.7180,  1.8893,  1.8550,  ...,  1.8208,  1.6838,  1.6324],\n",
      "          [ 1.5639,  1.5982,  1.7352,  ...,  1.9920,  1.7180,  1.7352],\n",
      "          [ 1.4612,  1.6153,  1.8379,  ...,  1.8208,  1.4954,  1.7865]],\n",
      "\n",
      "         [[ 0.5203,  0.4853,  0.4678,  ...,  0.4853,  0.5553,  0.5903],\n",
      "          [ 0.3627,  0.4153,  0.4678,  ...,  0.3102,  0.3452,  0.3803],\n",
      "          [ 0.3627,  0.4328,  0.5378,  ...,  0.2402,  0.2227,  0.2402],\n",
      "          ...,\n",
      "          [ 1.9209,  2.0959,  2.0609,  ...,  1.9559,  1.8158,  1.7633],\n",
      "          [ 1.7458,  1.7808,  1.9209,  ...,  2.1310,  1.8508,  1.8683],\n",
      "          [ 1.6232,  1.7808,  2.0084,  ...,  1.9559,  1.6232,  1.9209]],\n",
      "\n",
      "         [[ 0.6879,  0.6531,  0.6356,  ...,  0.7054,  0.7751,  0.8099],\n",
      "          [ 0.5311,  0.5834,  0.6356,  ...,  0.5311,  0.5659,  0.6008],\n",
      "          [ 0.5311,  0.6008,  0.7054,  ...,  0.4614,  0.4439,  0.4614],\n",
      "          ...,\n",
      "          [ 2.1171,  2.2914,  2.2566,  ...,  2.1868,  2.0474,  1.9951],\n",
      "          [ 1.9603,  1.9951,  2.1171,  ...,  2.3611,  2.0823,  2.0997],\n",
      "          [ 1.8383,  1.9951,  2.2217,  ...,  2.1868,  1.8557,  2.1520]]],\n",
      "\n",
      "\n",
      "        [[[ 1.7523,  1.7523,  1.7352,  ..., -0.0629,  0.3309,  0.3823],\n",
      "          [ 1.7523,  1.7523,  1.7352,  ..., -0.0287,  0.3481,  0.4166],\n",
      "          [ 1.7523,  1.7523,  1.7352,  ..., -0.0287,  0.3309,  0.3994],\n",
      "          ...,\n",
      "          [ 1.5468,  1.5125,  1.5468,  ...,  0.3138,  0.2796,  0.2796],\n",
      "          [ 1.5125,  1.4954,  1.5297,  ...,  0.2967,  0.2796,  0.3309],\n",
      "          [ 1.5468,  1.5810,  1.5810,  ...,  0.3823,  0.2624,  0.2624]],\n",
      "\n",
      "         [[ 1.8158,  1.8158,  1.7983,  ..., -0.0399,  0.3452,  0.3803],\n",
      "          [ 1.8158,  1.8158,  1.7983,  ..., -0.0049,  0.3627,  0.4153],\n",
      "          [ 1.8158,  1.8158,  1.7983,  ..., -0.0049,  0.3452,  0.4153],\n",
      "          ...,\n",
      "          [ 1.4307,  1.3957,  1.4307,  ...,  0.1527,  0.1176,  0.1001],\n",
      "          [ 1.3957,  1.3782,  1.4132,  ...,  0.1352,  0.1176,  0.1527],\n",
      "          [ 1.4307,  1.4657,  1.4657,  ...,  0.2227,  0.1001,  0.0826]],\n",
      "\n",
      "         [[ 2.0300,  2.0300,  2.0125,  ...,  0.1999,  0.6531,  0.7751],\n",
      "          [ 2.0300,  2.0300,  2.0125,  ...,  0.2522,  0.6879,  0.8099],\n",
      "          [ 2.0300,  2.0300,  2.0125,  ...,  0.2871,  0.6879,  0.7751],\n",
      "          ...,\n",
      "          [ 1.6640,  1.6291,  1.6640,  ...,  0.5311,  0.5136,  0.5311],\n",
      "          [ 1.6291,  1.6117,  1.6465,  ...,  0.5136,  0.5136,  0.5834],\n",
      "          [ 1.6640,  1.6988,  1.6988,  ...,  0.5834,  0.4962,  0.5136]]]]) labels: tensor([0, 0, 0, 0, 0, 0, 0, 0, 0, 0, 0, 0, 0, 0, 0, 0, 0, 0, 0, 0, 0, 0, 0, 0,\n",
      "        0, 0, 0, 0, 0, 0, 0, 0, 0, 0, 0, 0, 0, 0, 0, 0, 0, 0, 0, 0, 0, 0, 0, 0,\n",
      "        0, 0, 0, 0, 0, 0, 0, 0, 0, 0, 0, 0, 0, 0, 0, 0, 0, 0, 0, 0, 0, 0, 0, 0,\n",
      "        0, 0, 0, 0, 0, 0, 0, 0, 0, 0, 0, 0, 0, 0, 0, 0, 0, 0, 0, 0, 0, 0, 0, 0,\n",
      "        0, 0, 0, 0, 0, 0, 0, 0, 0, 0, 0, 0, 0, 0, 0, 0, 0, 0, 0, 0, 0, 0, 0, 0,\n",
      "        0, 0, 0, 0, 0, 0, 0, 0])\n"
     ]
    }
   ],
   "execution_count": 111
  },
  {
   "metadata": {
    "ExecuteTime": {
     "end_time": "2025-09-22T13:36:18.000927Z",
     "start_time": "2025-09-22T13:32:47.519332Z"
    }
   },
   "cell_type": "code",
   "source": [
    "# 初始化训练和验证的损失记录列表\n",
    "train_curve = list()\n",
    "valid_curve = list()\n",
    "\n",
    "# 开始训练循环，从start_epoch+1到最大轮数MAX_EPOCH\n",
    "for epoch in range(start_epoch + 1, MAX_EPOCH):\n",
    "\n",
    "    # 初始化当前epoch的训练统计变量\n",
    "    loss_mean = 0.      # 累计损失\n",
    "    correct = 0.        # 正确预测的样本数\n",
    "    total = 0.          # 总样本数\n",
    "\n",
    "    # 设置模型为训练模式（启用dropout和batchnorm）\n",
    "    alexnet_model.train()\n",
    "    \n",
    "    # 遍历训练数据加载器，i是批次索引，data包含输入和标签\n",
    "    for i, data in enumerate(train_loader): \n",
    "        # i: 批次索引\n",
    "        # data: 一个长度为2的列表/tuple，包含[inputs, labels]\n",
    "\n",
    "        # 前向传播\n",
    "        # inputs: 图像数据，形状为torch.Size([128, 3, 224, 224]) [批次大小, 通道数, 高, 宽]\n",
    "        # labels: 标签数据，形状为torch.Size([128]) [批次大小]\n",
    "        inputs, labels = data\n",
    "        inputs, labels = inputs.to(device), labels.to(device)  # 将数据移动到GPU/CPU\n",
    "        outputs = alexnet_model(inputs)  # 模型前向传播，得到预测输出\n",
    "\n",
    "        # 反向传播\n",
    "        optimizer.zero_grad()        # 清空之前的梯度\n",
    "        loss = criterion(outputs, labels)  # 计算损失\n",
    "        loss.backward()              # 反向传播计算梯度\n",
    "\n",
    "        # 更新权重\n",
    "        optimizer.step()             # 根据梯度更新模型参数\n",
    "\n",
    "        # 统计分类准确率\n",
    "        _, predicted = torch.max(outputs.data, 1)  # 获取预测类别（最大值的索引）\n",
    "        total += labels.size(0)                    # 累计总样本数\n",
    "        correct += (predicted == labels).squeeze().cpu().sum().numpy()  # 累计正确预测数\n",
    "\n",
    "        # 记录和打印训练信息\n",
    "        loss_mean += loss.item()                   # 累计损失值\n",
    "        train_curve.append(loss.item())            # 记录当前批次的损失到训练曲线\n",
    "        \n",
    "        # 每隔log_interval个批次打印一次训练信息\n",
    "        if (i+1) % log_interval == 0:\n",
    "            loss_mean = loss_mean / log_interval   # 计算平均损失\n",
    "            print(\"Training:Epoch[{:0>3}/{:0>3}] Iteration[{:0>3}/{:0>3}] Loss: {:.4f} Acc:{:.2%}\".format(\n",
    "                epoch, MAX_EPOCH, i+1, len(train_loader), loss_mean, correct / total))\n",
    "            loss_mean = 0.  # 重置损失累计值\n",
    "\n",
    "    # 更新学习率（根据scheduler的策略）\n",
    "    scheduler.step()  \n",
    "\n",
    "    # 验证模型（每隔val_interval个epoch验证一次）\n",
    "    if (epoch+1) % val_interval == 0:\n",
    "\n",
    "        # 初始化验证统计变量\n",
    "        correct_val = 0.    # 验证集正确预测数\n",
    "        total_val = 0.      # 验证集总样本数\n",
    "        loss_val = 0.       # 验证集损失累计\n",
    "\n",
    "        # 设置模型为评估模式（禁用dropout和batchnorm的随机性）\n",
    "        alexnet_model.eval()\n",
    "        \n",
    "        # 禁用梯度计算，加快验证速度，减少内存占用\n",
    "        with torch.no_grad():\n",
    "            # 遍历验证数据加载器\n",
    "            for j, data in enumerate(valid_loader):\n",
    "                inputs, labels = data\n",
    "                inputs, labels = inputs.to(device), labels.to(device)\n",
    "\n",
    "                # 处理多裁剪（multi-crop）测试的情况\n",
    "                # 获取输入张量的维度：[批次大小, 裁剪数量, 通道数, 高, 宽]\n",
    "                bs, ncrops, c, h, w = inputs.size()     # 例如 [4, 10, 3, 224, 224]\n",
    "                \n",
    "                # 将多裁剪展平为单个批次进行前向传播，设置为-1，可以自行计算，实际值为40\n",
    "                outputs = alexnet_model(inputs.view(-1, c, h, w))#变成[40,3,224,224]\n",
    "                \n",
    "                # 将多个裁剪的输出平均，得到最终预测\n",
    "                outputs_avg = outputs.view(bs, ncrops, -1).mean(1)\n",
    "\n",
    "                # 计算损失\n",
    "                loss = criterion(outputs_avg, labels)\n",
    "\n",
    "                # 统计验证准确率\n",
    "                _, predicted = torch.max(outputs_avg.data, 1)  # 获取预测类别\n",
    "                total_val += labels.size(0)                    # 累计验证集总样本数\n",
    "                correct_val += (predicted == labels).squeeze().cpu().sum().numpy()  # 累计正确数\n",
    "\n",
    "                loss_val += loss.item()  # 累计验证损失\n",
    "\n",
    "            # 计算平均验证损失\n",
    "            loss_val_mean = loss_val/len(valid_loader)\n",
    "            valid_curve.append(loss_val_mean)  # 记录到验证曲线\n",
    "            \n",
    "            # 打印验证结果\n",
    "            print(\"Valid:\\t Epoch[{:0>3}/{:0>3}] Iteration[{:0>3}/{:0>3}] Loss: {:.4f} Acc:{:.2%}\".format(\n",
    "                epoch, MAX_EPOCH, j+1, len(valid_loader), loss_val_mean, correct_val / total_val))\n",
    "        \n",
    "        # 验证结束后，将模型重新设置为训练模式\n",
    "        alexnet_model.train()"
   ],
   "id": "97fe13f633bb1a73",
   "outputs": [
    {
     "name": "stdout",
     "output_type": "stream",
     "text": [
      "Training:Epoch[000/003] Iteration[001/024] Loss: 1.3133 Acc:14.06%\n",
      "Training:Epoch[000/003] Iteration[002/024] Loss: 0.2639 Acc:54.30%\n",
      "Training:Epoch[000/003] Iteration[003/024] Loss: 0.0405 Acc:69.53%\n",
      "Training:Epoch[000/003] Iteration[004/024] Loss: 0.0104 Acc:77.15%\n",
      "Training:Epoch[000/003] Iteration[005/024] Loss: 0.0055 Acc:81.72%\n",
      "Training:Epoch[000/003] Iteration[006/024] Loss: 0.0013 Acc:84.77%\n",
      "Training:Epoch[000/003] Iteration[007/024] Loss: 0.0010 Acc:86.94%\n",
      "Training:Epoch[000/003] Iteration[008/024] Loss: 0.0006 Acc:88.57%\n",
      "Training:Epoch[000/003] Iteration[009/024] Loss: 0.0005 Acc:89.84%\n",
      "Training:Epoch[000/003] Iteration[010/024] Loss: 0.0003 Acc:90.86%\n",
      "Training:Epoch[000/003] Iteration[011/024] Loss: 0.0003 Acc:91.69%\n",
      "Training:Epoch[000/003] Iteration[012/024] Loss: 0.0001 Acc:92.38%\n",
      "Training:Epoch[000/003] Iteration[013/024] Loss: 0.0001 Acc:92.97%\n",
      "Training:Epoch[000/003] Iteration[014/024] Loss: 0.0000 Acc:93.47%\n",
      "Training:Epoch[000/003] Iteration[015/024] Loss: 0.0000 Acc:93.91%\n",
      "Training:Epoch[000/003] Iteration[016/024] Loss: 0.0000 Acc:94.29%\n",
      "Training:Epoch[000/003] Iteration[017/024] Loss: 0.0000 Acc:94.62%\n",
      "Training:Epoch[000/003] Iteration[018/024] Loss: 0.0001 Acc:94.92%\n",
      "Training:Epoch[000/003] Iteration[019/024] Loss: 0.0005 Acc:95.19%\n",
      "Training:Epoch[000/003] Iteration[020/024] Loss: 0.0000 Acc:95.43%\n",
      "Training:Epoch[000/003] Iteration[021/024] Loss: 0.0000 Acc:95.65%\n",
      "Training:Epoch[000/003] Iteration[022/024] Loss: 0.0001 Acc:95.85%\n",
      "Training:Epoch[000/003] Iteration[023/024] Loss: 0.0001 Acc:96.03%\n",
      "Training:Epoch[000/003] Iteration[024/024] Loss: 0.0000 Acc:96.08%\n",
      "Valid:\t Epoch[000/003] Iteration[083/083] Loss: 0.0000 Acc:100.00%\n",
      "Training:Epoch[001/003] Iteration[001/024] Loss: 0.0000 Acc:100.00%\n",
      "Training:Epoch[001/003] Iteration[002/024] Loss: 0.0000 Acc:100.00%\n",
      "Training:Epoch[001/003] Iteration[003/024] Loss: 0.0000 Acc:100.00%\n",
      "Training:Epoch[001/003] Iteration[004/024] Loss: 0.0000 Acc:100.00%\n",
      "Training:Epoch[001/003] Iteration[005/024] Loss: 0.0000 Acc:100.00%\n",
      "Training:Epoch[001/003] Iteration[006/024] Loss: 0.0000 Acc:100.00%\n",
      "Training:Epoch[001/003] Iteration[007/024] Loss: 0.0003 Acc:100.00%\n",
      "Training:Epoch[001/003] Iteration[008/024] Loss: 0.0000 Acc:100.00%\n",
      "Training:Epoch[001/003] Iteration[009/024] Loss: 0.0000 Acc:100.00%\n",
      "Training:Epoch[001/003] Iteration[010/024] Loss: 0.0000 Acc:100.00%\n",
      "Training:Epoch[001/003] Iteration[011/024] Loss: 0.0000 Acc:100.00%\n",
      "Training:Epoch[001/003] Iteration[012/024] Loss: 0.0000 Acc:100.00%\n",
      "Training:Epoch[001/003] Iteration[013/024] Loss: 0.0001 Acc:100.00%\n",
      "Training:Epoch[001/003] Iteration[014/024] Loss: 0.0000 Acc:100.00%\n",
      "Training:Epoch[001/003] Iteration[015/024] Loss: 0.0000 Acc:100.00%\n",
      "Training:Epoch[001/003] Iteration[016/024] Loss: 0.0000 Acc:100.00%\n",
      "Training:Epoch[001/003] Iteration[017/024] Loss: 0.0000 Acc:100.00%\n",
      "Training:Epoch[001/003] Iteration[018/024] Loss: 0.0000 Acc:100.00%\n",
      "Training:Epoch[001/003] Iteration[019/024] Loss: 0.0001 Acc:100.00%\n",
      "Training:Epoch[001/003] Iteration[020/024] Loss: 0.0000 Acc:100.00%\n",
      "Training:Epoch[001/003] Iteration[021/024] Loss: 0.0000 Acc:100.00%\n",
      "Training:Epoch[001/003] Iteration[022/024] Loss: 0.0001 Acc:100.00%\n",
      "Training:Epoch[001/003] Iteration[023/024] Loss: 0.0001 Acc:100.00%\n",
      "Training:Epoch[001/003] Iteration[024/024] Loss: 0.0000 Acc:100.00%\n",
      "Valid:\t Epoch[001/003] Iteration[083/083] Loss: 0.0000 Acc:100.00%\n",
      "Training:Epoch[002/003] Iteration[001/024] Loss: 0.0000 Acc:100.00%\n",
      "Training:Epoch[002/003] Iteration[002/024] Loss: 0.0000 Acc:100.00%\n",
      "Training:Epoch[002/003] Iteration[003/024] Loss: 0.0000 Acc:100.00%\n",
      "Training:Epoch[002/003] Iteration[004/024] Loss: 0.0000 Acc:100.00%\n",
      "Training:Epoch[002/003] Iteration[005/024] Loss: 0.0000 Acc:100.00%\n",
      "Training:Epoch[002/003] Iteration[006/024] Loss: 0.0000 Acc:100.00%\n",
      "Training:Epoch[002/003] Iteration[007/024] Loss: 0.0000 Acc:100.00%\n",
      "Training:Epoch[002/003] Iteration[008/024] Loss: 0.0001 Acc:100.00%\n",
      "Training:Epoch[002/003] Iteration[009/024] Loss: 0.0000 Acc:100.00%\n",
      "Training:Epoch[002/003] Iteration[010/024] Loss: 0.0000 Acc:100.00%\n",
      "Training:Epoch[002/003] Iteration[011/024] Loss: 0.0000 Acc:100.00%\n",
      "Training:Epoch[002/003] Iteration[012/024] Loss: 0.0000 Acc:100.00%\n",
      "Training:Epoch[002/003] Iteration[013/024] Loss: 0.0000 Acc:100.00%\n",
      "Training:Epoch[002/003] Iteration[014/024] Loss: 0.0000 Acc:100.00%\n",
      "Training:Epoch[002/003] Iteration[015/024] Loss: 0.0000 Acc:100.00%\n",
      "Training:Epoch[002/003] Iteration[016/024] Loss: 0.0000 Acc:100.00%\n",
      "Training:Epoch[002/003] Iteration[017/024] Loss: 0.0000 Acc:100.00%\n",
      "Training:Epoch[002/003] Iteration[018/024] Loss: 0.0000 Acc:100.00%\n",
      "Training:Epoch[002/003] Iteration[019/024] Loss: 0.0000 Acc:100.00%\n",
      "Training:Epoch[002/003] Iteration[020/024] Loss: 0.0001 Acc:100.00%\n",
      "Training:Epoch[002/003] Iteration[021/024] Loss: 0.0000 Acc:100.00%\n",
      "Training:Epoch[002/003] Iteration[022/024] Loss: 0.0000 Acc:100.00%\n",
      "Training:Epoch[002/003] Iteration[023/024] Loss: 0.0000 Acc:100.00%\n",
      "Training:Epoch[002/003] Iteration[024/024] Loss: 0.0000 Acc:100.00%\n",
      "Valid:\t Epoch[002/003] Iteration[083/083] Loss: 0.0000 Acc:100.00%\n"
     ]
    }
   ],
   "execution_count": 112
  },
  {
   "metadata": {
    "ExecuteTime": {
     "end_time": "2025-09-22T13:37:43.392008Z",
     "start_time": "2025-09-22T13:37:43.382637Z"
    }
   },
   "cell_type": "code",
   "source": "outputs",
   "id": "a38e1ff736afda8c",
   "outputs": [
    {
     "data": {
      "text/plain": [
       "tensor([[  5.2594,  -4.5706],\n",
       "        [  5.1341,  -4.6557],\n",
       "        [  5.5215,  -4.3863],\n",
       "        [  5.1604,  -4.1381],\n",
       "        [  5.3448,  -4.4788],\n",
       "        [  5.4864,  -5.1910],\n",
       "        [  6.2232,  -5.4002],\n",
       "        [  5.9679,  -5.1134],\n",
       "        [  7.5140,  -6.1786],\n",
       "        [  5.6329,  -4.7975],\n",
       "        [  9.2393,  -9.4907],\n",
       "        [  9.8636, -10.6176],\n",
       "        [  9.5256, -10.1051],\n",
       "        [  9.8585, -10.6268],\n",
       "        [  9.2724, -10.2302],\n",
       "        [  9.3989, -10.1285],\n",
       "        [  9.1837,  -9.6254],\n",
       "        [  8.9693,  -9.6115],\n",
       "        [  9.0630,  -9.4805],\n",
       "        [  9.4324, -10.2787],\n",
       "        [ 10.4511, -11.5879],\n",
       "        [ 10.0833, -11.3304],\n",
       "        [  9.2130,  -9.9877],\n",
       "        [  9.0227,  -9.9554],\n",
       "        [ 10.0086, -11.0854],\n",
       "        [ 10.3310, -11.5890],\n",
       "        [ 10.3216, -11.2867],\n",
       "        [  9.6053, -10.1157],\n",
       "        [  9.3754,  -9.7132],\n",
       "        [ 10.3886, -11.1580],\n",
       "        [  8.9703,  -9.2392],\n",
       "        [  8.2809,  -8.8784],\n",
       "        [  9.5723,  -9.1697],\n",
       "        [  9.0230,  -8.9502],\n",
       "        [  8.7280,  -9.0007],\n",
       "        [ 10.7346, -11.5840],\n",
       "        [ 10.2565, -10.8451],\n",
       "        [ 11.3490, -11.5865],\n",
       "        [ 10.5237, -10.7213],\n",
       "        [ 10.5725, -11.4381]])"
      ]
     },
     "execution_count": 117,
     "metadata": {},
     "output_type": "execute_result"
    }
   ],
   "execution_count": 117
  },
  {
   "metadata": {},
   "cell_type": "code",
   "outputs": [],
   "execution_count": null,
   "source": "type(outputs)",
   "id": "8d4e5c0b9feacdab"
  },
  {
   "metadata": {
    "ExecuteTime": {
     "end_time": "2025-09-22T13:37:09.485879Z",
     "start_time": "2025-09-22T13:37:09.477892Z"
    }
   },
   "cell_type": "code",
   "source": "outputs.shape",
   "id": "d1bbe0eaeab64ef0",
   "outputs": [
    {
     "data": {
      "text/plain": [
       "torch.Size([40, 2])"
      ]
     },
     "execution_count": 116,
     "metadata": {},
     "output_type": "execute_result"
    }
   ],
   "execution_count": 116
  },
  {
   "metadata": {
    "ExecuteTime": {
     "end_time": "2025-09-22T13:39:22.301637Z",
     "start_time": "2025-09-22T13:39:22.297440Z"
    }
   },
   "cell_type": "code",
   "source": [
    "# 模拟数据验证\n",
    "bs, ncrops, num_classes = 4, 10, 3\n",
    "\n",
    "# 模拟模型输出 [40, 3]\n",
    "outputs = torch.randn(40, num_classes)\n",
    "print(\"原始输出形状:\", outputs.shape)  # [40, 3]\n",
    "\n",
    "# 重塑\n",
    "outputs_reshaped = outputs.view(bs, ncrops, num_classes)\n",
    "print(\"重塑后形状:\", outputs_reshaped.shape)  # [4, 10, 3]"
   ],
   "id": "7b08e16d795f8fd3",
   "outputs": [
    {
     "name": "stdout",
     "output_type": "stream",
     "text": [
      "原始输出形状: torch.Size([40, 3])\n",
      "重塑后形状: torch.Size([4, 10, 3])\n"
     ]
    }
   ],
   "execution_count": 119
  },
  {
   "metadata": {},
   "cell_type": "markdown",
   "source": "# 绘制图像",
   "id": "96effdff2b719103"
  },
  {
   "metadata": {
    "ExecuteTime": {
     "end_time": "2025-09-22T13:36:18.110889Z",
     "start_time": "2025-09-22T13:36:18.003519Z"
    }
   },
   "cell_type": "code",
   "source": [
    "train_x = range(len(train_curve))\n",
    "train_y = train_curve\n",
    "\n",
    "train_iters = len(train_loader)\n",
    "valid_x = np.arange(1, len(valid_curve)+1) * train_iters*val_interval # 由于valid中记录的是epochloss，需要对记录点进行转换到iterations\n",
    "valid_y = valid_curve\n",
    "\n",
    "plt.plot(train_x, train_y, label='Train')\n",
    "plt.plot(valid_x, valid_y, label='Valid')\n",
    "\n",
    "plt.legend(loc='upper right')\n",
    "plt.ylabel('loss value')\n",
    "plt.xlabel('Iteration')\n",
    "plt.show()"
   ],
   "id": "bfd20f424a524002",
   "outputs": [
    {
     "data": {
      "text/plain": [
       "<Figure size 640x480 with 1 Axes>"
      ],
      "image/png": "[encoded data removed]"
     },
     "metadata": {},
     "output_type": "display_data"
    }
   ],
   "execution_count": 113
  },
  {
   "metadata": {
    "ExecuteTime": {
     "end_time": "2025-09-22T13:36:18.114016Z",
     "start_time": "2025-09-22T13:36:18.110889Z"
    }
   },
   "cell_type": "code",
   "source": "",
   "id": "f1e346a351861c5",
   "outputs": [],
   "execution_count": 113
  }
 ],
 "metadata": {
  "kernelspec": {
   "display_name": "Python 3",
   "language": "python",
   "name": "python3"
  },
  "language_info": {
   "codemirror_mode": {
    "name": "ipython",
    "version": 2
   },
   "file_extension": ".py",
   "mimetype": "text/x-python",
   "name": "python",
   "nbconvert_exporter": "python",
   "pygments_lexer": "ipython2",
   "version": "2.7.6"
  }
 },
 "nbformat": 4,
 "nbformat_minor": 5
}

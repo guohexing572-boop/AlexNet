{
 "cells": [
  {
   "metadata": {},
   "cell_type": "markdown",
   "source": "# 导入包",
   "id": "9ff223be7be1bb1"
  },
  {
   "cell_type": "code",
   "id": "initial_id",
   "metadata": {
    "collapsed": true,
    "ExecuteTime": {
     "end_time": "2025-09-22T10:18:51.397965Z",
     "start_time": "2025-09-22T10:18:51.394622Z"
    }
   },
   "source": [
    "import os\n",
    "import torch\n",
    "import torch.nn as nn\n",
    "from PIL import Image\n",
    "import torchvision.transforms as transforms\n",
    "from torch.utils.tensorboard import SummaryWriter\n",
    "import torchvision.utils as vutils\n",
    "import torchvision.models as models\n",
    "BASE_DIR = os.getcwd()  # 获取当前工作目录\n",
    "device = torch.device(\"cuda\" if torch.cuda.is_available() else \"cpu\")"
   ],
   "outputs": [],
   "execution_count": 3
  },
  {
   "metadata": {
    "ExecuteTime": {
     "end_time": "2025-09-22T10:19:50.090762Z",
     "start_time": "2025-09-22T10:19:47.544767Z"
    }
   },
   "cell_type": "code",
   "source": [
    "log_dir = os.path.join(BASE_DIR, \"..\", \"results\")\n",
    "# ----------------------------------- kernel visualization -----------------------------------\n",
    "writer = SummaryWriter(log_dir=log_dir, filename_suffix=\"_kernel\")\n",
    "\n",
    "# m1\n",
    "# alexnet = models.alexnet(pretrained=True)\n",
    "\n",
    "# m2\n",
    "path_state_dict = os.path.join(BASE_DIR, \"..\", \"data\", \"alexnet-owt-4df8aa71.pth\")\n",
    "alexnet = models.alexnet()\n",
    "pretrained_state_dict = torch.load(path_state_dict,weights_only=True)\n",
    "alexnet.load_state_dict(pretrained_state_dict)\n",
    "\n",
    "kernel_num = -1\n",
    "#最大层数，0是第一层\n",
    "vis_max = 1\n",
    "for sub_module in alexnet.modules():\n",
    "    if not isinstance(sub_module, nn.Conv2d):\n",
    "        continue\n",
    "    kernel_num += 1\n",
    "    if kernel_num > vis_max:\n",
    "        break\n",
    "\n",
    "    kernels = sub_module.weight\n",
    "    c_out, c_int, k_h, k_w = tuple(kernels.shape)\n",
    "\n",
    "    # 拆分channel\n",
    "    for o_idx in range(c_out):\n",
    "        kernel_idx = kernels[o_idx, :, :, :].unsqueeze(1)  # 获得(3, h, w), 但是make_grid需要 BCHW，这里拓展C维度变为（3， 1， h, w）\n",
    "        kernel_grid = vutils.make_grid(kernel_idx, normalize=True, scale_each=True, nrow=c_int)\n",
    "        writer.add_image('{}_Convlayer_split_in_channel'.format(kernel_num), kernel_grid, global_step=o_idx)\n",
    "\n",
    "    kernel_all = kernels.view(-1, 3, k_h, k_w)  # 3, h, w\n",
    "    kernel_grid = vutils.make_grid(kernel_all, normalize=True, scale_each=True, nrow=8)  # c, h, w\n",
    "    writer.add_image('{}_all'.format(kernel_num), kernel_grid, global_step=620)\n",
    "\n",
    "    print(\"{}_convlayer shape:{}\".format(kernel_num, tuple(kernels.shape)))\n",
    "\n",
    "# ----------------------------------- feature map visualization -----------------------------------\n",
    "writer = SummaryWriter(log_dir=log_dir, filename_suffix=\"_feature map\")\n",
    "\n",
    "# 数据\n",
    "path_img = os.path.join(BASE_DIR, \"..\", \"data\", \"tiger cat.jpg\")  # your path to image\n",
    "normMean = [0.49139968, 0.48215827, 0.44653124]\n",
    "normStd = [0.24703233, 0.24348505, 0.26158768]\n",
    "norm_transform = transforms.Normalize(normMean, normStd)\n",
    "img_transforms = transforms.Compose([\n",
    "    transforms.Resize((224, 224)),\n",
    "    transforms.ToTensor(),\n",
    "    norm_transform\n",
    "])\n",
    "\n",
    "img_pil = Image.open(path_img).convert('RGB')\n",
    "img_tensor = img_transforms(img_pil)\n",
    "img_tensor.unsqueeze_(0)  # chw --> bchw\n",
    "\n",
    "# 模型\n",
    "# alexnet = models.alexnet(pretrained=True)\n",
    "\n",
    "# forward\n",
    "convlayer1 = alexnet.features[0]\n",
    "fmap_1 = convlayer1(img_tensor)\n",
    "\n",
    "# 预处理\n",
    "fmap_1.transpose_(0, 1)  # bchw=(1, 64, 55, 55) --> (64, 1, 55, 55)\n",
    "fmap_1_grid = vutils.make_grid(fmap_1, normalize=True, scale_each=True, nrow=8)\n",
    "\n",
    "writer.add_image('feature map in conv1', fmap_1_grid, global_step=620)\n",
    "writer.close()"
   ],
   "id": "20d76a9fce5ff1bb",
   "outputs": [
    {
     "name": "stdout",
     "output_type": "stream",
     "text": [
      "0_convlayer shape:(64, 3, 11, 11)\n",
      "1_convlayer shape:(192, 64, 5, 5)\n"
     ]
    }
   ],
   "execution_count": 5
  },
  {
   "metadata": {},
   "cell_type": "code",
   "outputs": [],
   "execution_count": null,
   "source": "",
   "id": "6d5a6450f2b43688"
  }
 ],
 "metadata": {
  "kernelspec": {
   "display_name": "Python 3",
   "language": "python",
   "name": "python3"
  },
  "language_info": {
   "codemirror_mode": {
    "name": "ipython",
    "version": 2
   },
   "file_extension": ".py",
   "mimetype": "text/x-python",
   "name": "python",
   "nbconvert_exporter": "python",
   "pygments_lexer": "ipython2",
   "version": "2.7.6"
  }
 },
 "nbformat": 4,
 "nbformat_minor": 5
}
